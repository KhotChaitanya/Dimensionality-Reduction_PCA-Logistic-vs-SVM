{
 "cells": [
  {
   "cell_type": "markdown",
   "id": "d432eb39",
   "metadata": {},
   "source": [
    "# PCA + Logistic Regression vs PCA + SVM (Iris Dataset)\n",
    "\n",
    "This notebook compares **Logistic Regression** and **SVM** after applying **PCA** on the **Iris dataset**.\n",
    "\n",
    "**Goal:** To analyze the effect of dimensionality reduction using PCA on model performance.\n"
   ]
  },
  {
   "cell_type": "markdown",
   "id": "f54e7eee",
   "metadata": {},
   "source": [
    "## Step 1: Load the Iris Dataset"
   ]
  },
  {
   "cell_type": "code",
   "execution_count": null,
   "id": "0d6663ed",
   "metadata": {},
   "outputs": [],
   "source": [
    "from sklearn.datasets import load_iris\n",
    "import pandas as pd\n",
    "\n",
    "iris = load_iris()\n",
    "df = pd.DataFrame(iris.data, columns=iris.feature_names)\n",
    "df['target'] = iris.target\n",
    "df.head()"
   ]
  },
  {
   "cell_type": "markdown",
   "id": "da65cd55",
   "metadata": {},
   "source": [
    "## Step 2: Apply PCA (2 Components)"
   ]
  },
  {
   "cell_type": "code",
   "execution_count": null,
   "id": "d0612a43",
   "metadata": {},
   "outputs": [],
   "source": [
    "from sklearn.preprocessing import StandardScaler\n",
    "from sklearn.decomposition import PCA\n",
    "\n",
    "X = df.drop('target', axis=1)\n",
    "y = df['target']\n",
    "\n",
    "scaler = StandardScaler()\n",
    "X_scaled = scaler.fit_transform(X)\n",
    "\n",
    "pca = PCA(n_components=2)\n",
    "X_pca = pca.fit_transform(X_scaled)"
   ]
  },
  {
   "cell_type": "markdown",
   "id": "ffbc420d",
   "metadata": {},
   "source": [
    "## Step 3: Train-Test Split"
   ]
  },
  {
   "cell_type": "code",
   "execution_count": null,
   "id": "1acea0c0",
   "metadata": {},
   "outputs": [],
   "source": [
    "from sklearn.model_selection import train_test_split\n",
    "\n",
    "X_train, X_test, y_train, y_test = train_test_split(X_pca, y, test_size=0.2, random_state=42)"
   ]
  },
  {
   "cell_type": "markdown",
   "id": "6e8ea406",
   "metadata": {},
   "source": [
    "## Step 4: Train Logistic Regression and SVM"
   ]
  },
  {
   "cell_type": "code",
   "execution_count": null,
   "id": "a8d8adf4",
   "metadata": {},
   "outputs": [],
   "source": [
    "from sklearn.linear_model import LogisticRegression\n",
    "from sklearn.svm import SVC\n",
    "\n",
    "log_model = LogisticRegression()\n",
    "log_model.fit(X_train, y_train)\n",
    "\n",
    "svm_model = SVC(probability=True)\n",
    "svm_model.fit(X_train, y_train)"
   ]
  },
  {
   "cell_type": "markdown",
   "id": "ae76bb95",
   "metadata": {},
   "source": [
    "## Step 5: Evaluate Models"
   ]
  },
  {
   "cell_type": "code",
   "execution_count": null,
   "id": "c30601f2",
   "metadata": {},
   "outputs": [],
   "source": [
    "from sklearn.metrics import accuracy_score, classification_report\n",
    "\n",
    "log_preds = log_model.predict(X_test)\n",
    "svm_preds = svm_model.predict(X_test)\n",
    "\n",
    "print(\"Logistic Regression Accuracy:\", accuracy_score(y_test, log_preds))\n",
    "print(classification_report(y_test, log_preds))\n",
    "\n",
    "print(\"SVM Accuracy:\", accuracy_score(y_test, svm_preds))\n",
    "print(classification_report(y_test, svm_preds))"
   ]
  },
  {
   "cell_type": "markdown",
   "id": "6962e1ac",
   "metadata": {},
   "source": [
    "## Step 6: Realistic Prediction Query\n",
    "**Example:** A sample with sepal length 5.1, sepal width 3.5, petal length 1.4, petal width 0.2"
   ]
  },
  {
   "cell_type": "code",
   "execution_count": null,
   "id": "74e160ff",
   "metadata": {},
   "outputs": [],
   "source": [
    "import numpy as np\n",
    "\n",
    "sample = np.array([[5.1, 3.5, 1.4, 0.2]])\n",
    "sample_scaled = scaler.transform(sample)\n",
    "sample_pca = pca.transform(sample_scaled)\n",
    "\n",
    "log_prob = log_model.predict_proba(sample_pca)[0]\n",
    "svm_prob = svm_model.predict_proba(sample_pca)[0]\n",
    "\n",
    "print(\"Logistic Regression Probabilities:\", log_prob)\n",
    "print(\"SVM Probabilities:\", svm_prob)"
   ]
  }
 ],
 "metadata": {},
 "nbformat": 4,
 "nbformat_minor": 5
}